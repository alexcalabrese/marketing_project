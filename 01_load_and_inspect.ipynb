{
 "cells": [
  {
   "cell_type": "code",
   "execution_count": 1,
   "metadata": {},
   "outputs": [],
   "source": [
    "# ! pip install pyyaml pandas"
   ]
  },
  {
   "cell_type": "code",
   "execution_count": 2,
   "metadata": {},
   "outputs": [],
   "source": [
    "import os\n",
    "import pandas as pd\n",
    "from IPython.display import display\n",
    "from pathlib import Path\n",
    "from utils import get_configs, display_unique_values, get_duplicates"
   ]
  },
  {
   "cell_type": "code",
   "execution_count": 3,
   "metadata": {},
   "outputs": [],
   "source": [
    "# Load configuration settings from configs.yaml\n",
    "config = get_configs('configs.yaml')"
   ]
  },
  {
   "cell_type": "code",
   "execution_count": 4,
   "metadata": {},
   "outputs": [],
   "source": [
    "# Access the base path and other paths from the config\n",
    "base_path = config['data_paths']['base_path']\n",
    "file_paths = {\n",
    "    'Customers': os.path.join(base_path, config['data_paths']['customers']),\n",
    "    'Products': os.path.join(base_path, config['data_paths']['products']),\n",
    "    'Labelled Reviews': os.path.join(base_path, config['data_paths']['labelled_reviews']),\n",
    "    'Orders': os.path.join(base_path, config['data_paths']['orders']),\n",
    "    'Addresses': os.path.join(base_path, config['data_paths']['addresses']),\n",
    "    'Customer Reviews': os.path.join(base_path, config['data_paths']['customer_reviews']),\n",
    "    'Customer Accounts': os.path.join(base_path, config['data_paths']['customer_accounts'])\n",
    "}"
   ]
  },
  {
   "cell_type": "code",
   "execution_count": 5,
   "metadata": {},
   "outputs": [
    {
     "name": "stdout",
     "output_type": "stream",
     "text": [
      "Customers:\n",
      "   customer_id  address_id   birthdate gender job_type email_provider  \\\n",
      "0       891057      863914  2001-10-22      F      NaN       yahoo.it   \n",
      "1       655484      639856  2001-04-30      M      NaN       yahoo.it   \n",
      "2       514958      494806  2001-01-01      M      NaN      libero.it   \n",
      "3       398355      377261  2000-03-09      M      NaN      gmail.com   \n",
      "4        23808       20227  1999-11-21      F      NaN    virgilio.it   \n",
      "\n",
      "   flag_phone_provided  flag_privacy  \n",
      "0                  1.0          True  \n",
      "1                  1.0         False  \n",
      "2                  1.0          True  \n",
      "3                  1.0          True  \n",
      "4                  1.0          True  \n",
      "\n",
      "\n",
      "\n",
      "Products:\n",
      "   product_id  product_class\n",
      "0    35996051              9\n",
      "1    35980371             14\n",
      "2    31276196              4\n",
      "3    31276224              4\n",
      "4    31456495              4\n",
      "\n",
      "\n",
      "\n",
      "Labelled Reviews:\n"
     ]
    },
    {
     "name": "stdout",
     "output_type": "stream",
     "text": [
      "   labelled_reviews_index                                        review_text  \\\n",
      "0                       0  I'm no bitters expert but I bought it as a gif...   \n",
      "1                       1  these are probably great in the right drinks, ...   \n",
      "2                       2  I sent these to my dad for his bday and he sai...   \n",
      "3                       3  I purchased these as a gift for family member ...   \n",
      "4                       4  My wife bought me this sauce sampler for Chris...   \n",
      "\n",
      "  sentiment_label  \n",
      "0         neutral  \n",
      "1         neutral  \n",
      "2        positive  \n",
      "3        positive  \n",
      "4         neutral  \n",
      "\n",
      "\n",
      "\n",
      "Orders:\n",
      "                           order_id  customer_id  store_id  product_id  \\\n",
      "0  8fe4346b53d0c781b275a614175804de           23        49    35551922   \n",
      "1  8fe4346b53d0c781b275a614175804de           23        49    30344384   \n",
      "2  8fe4346b53d0c781b275a614175804de           23        49    33794292   \n",
      "3  8fe4346b53d0c781b275a614175804de           23        49    33795776   \n",
      "4  8fe4346b53d0c781b275a614175804de           23        49    36235381   \n",
      "\n",
      "   direction  gross_price  price_reduction  purchase_datetime  \n",
      "0          1       125.40              0.0  2022-10-04T182851  \n",
      "1          1         8.30              0.0  2022-10-04T182851  \n",
      "2          1         1.99              0.0  2022-10-04T182851  \n",
      "3          1         5.10              0.0  2022-10-04T182851  \n",
      "4          1        76.05              0.0  2022-10-04T182851  \n",
      "\n",
      "\n",
      "\n",
      "Addresses:\n",
      "   address_id  postal_code district     region\n",
      "0        1337      20083.0       MI  LOMBARDIA\n",
      "1        1347      20090.0       MI  LOMBARDIA\n",
      "2        1347      20090.0       MI  LOMBARDIA\n",
      "3        1347      20090.0       MI  LOMBARDIA\n",
      "4        1347      20090.0       MI  LOMBARDIA\n",
      "\n",
      "\n",
      "\n",
      "Customer Reviews:\n",
      "   review_id  customer_id                                        review_text\n",
      "0          1       814256  I have bought several of the Vitality canned d...\n",
      "1          2       457475  Product arrived labeled as Jumbo Salted Peanut...\n",
      "2          3       104045  This is a confection that has been around a fe...\n",
      "3          4       603662  If you are looking for the secret ingredient i...\n",
      "4          5       739314  Great taffy at a great price.  There was a wid...\n",
      "\n",
      "\n",
      "\n",
      "Customer Accounts:\n",
      "   customer_id  account_id  favorite_store loyalty_type  loyatlty_status  \\\n",
      "0         9557      746573               9      premium                1   \n",
      "1       743090      776971               2      premium                1   \n",
      "2       813156      791681              45      premium                1   \n",
      "3       843392      825439               1      premium                1   \n",
      "4        20476      815010              16      premium                1   \n",
      "\n",
      "  activation_date  \n",
      "0      2023-01-11  \n",
      "1      2023-01-30  \n",
      "2      2023-02-08  \n",
      "3      2023-03-01  \n",
      "4      2023-02-23  \n",
      "\n",
      "\n",
      "\n"
     ]
    }
   ],
   "source": [
    "# display the columns for each filepath in file_pats\n",
    "for key, value in file_paths.items():\n",
    "    print(f\"{key}:\")\n",
    "    df = pd.read_csv(value)\n",
    "    print(df.head())\n",
    "    print(\"\\n\\n\")"
   ]
  },
  {
   "cell_type": "markdown",
   "metadata": {},
   "source": [
    "### Customers Data"
   ]
  },
  {
   "cell_type": "code",
   "execution_count": 6,
   "metadata": {},
   "outputs": [
    {
     "name": "stdout",
     "output_type": "stream",
     "text": [
      "\n",
      "Head of Customers:\n"
     ]
    },
    {
     "data": {
      "text/html": [
       "<div>\n",
       "<style scoped>\n",
       "    .dataframe tbody tr th:only-of-type {\n",
       "        vertical-align: middle;\n",
       "    }\n",
       "\n",
       "    .dataframe tbody tr th {\n",
       "        vertical-align: top;\n",
       "    }\n",
       "\n",
       "    .dataframe thead th {\n",
       "        text-align: right;\n",
       "    }\n",
       "</style>\n",
       "<table border=\"1\" class=\"dataframe\">\n",
       "  <thead>\n",
       "    <tr style=\"text-align: right;\">\n",
       "      <th></th>\n",
       "      <th>customer_id</th>\n",
       "      <th>address_id</th>\n",
       "      <th>birthdate</th>\n",
       "      <th>gender</th>\n",
       "      <th>job_type</th>\n",
       "      <th>email_provider</th>\n",
       "      <th>flag_phone_provided</th>\n",
       "      <th>flag_privacy</th>\n",
       "    </tr>\n",
       "  </thead>\n",
       "  <tbody>\n",
       "    <tr>\n",
       "      <th>0</th>\n",
       "      <td>891057</td>\n",
       "      <td>863914</td>\n",
       "      <td>2001-10-22</td>\n",
       "      <td>F</td>\n",
       "      <td>NaN</td>\n",
       "      <td>yahoo.it</td>\n",
       "      <td>1.0</td>\n",
       "      <td>True</td>\n",
       "    </tr>\n",
       "    <tr>\n",
       "      <th>1</th>\n",
       "      <td>655484</td>\n",
       "      <td>639856</td>\n",
       "      <td>2001-04-30</td>\n",
       "      <td>M</td>\n",
       "      <td>NaN</td>\n",
       "      <td>yahoo.it</td>\n",
       "      <td>1.0</td>\n",
       "      <td>False</td>\n",
       "    </tr>\n",
       "    <tr>\n",
       "      <th>2</th>\n",
       "      <td>514958</td>\n",
       "      <td>494806</td>\n",
       "      <td>2001-01-01</td>\n",
       "      <td>M</td>\n",
       "      <td>NaN</td>\n",
       "      <td>libero.it</td>\n",
       "      <td>1.0</td>\n",
       "      <td>True</td>\n",
       "    </tr>\n",
       "    <tr>\n",
       "      <th>3</th>\n",
       "      <td>398355</td>\n",
       "      <td>377261</td>\n",
       "      <td>2000-03-09</td>\n",
       "      <td>M</td>\n",
       "      <td>NaN</td>\n",
       "      <td>gmail.com</td>\n",
       "      <td>1.0</td>\n",
       "      <td>True</td>\n",
       "    </tr>\n",
       "    <tr>\n",
       "      <th>4</th>\n",
       "      <td>23808</td>\n",
       "      <td>20227</td>\n",
       "      <td>1999-11-21</td>\n",
       "      <td>F</td>\n",
       "      <td>NaN</td>\n",
       "      <td>virgilio.it</td>\n",
       "      <td>1.0</td>\n",
       "      <td>True</td>\n",
       "    </tr>\n",
       "  </tbody>\n",
       "</table>\n",
       "</div>"
      ],
      "text/plain": [
       "   customer_id  address_id   birthdate gender job_type email_provider  \\\n",
       "0       891057      863914  2001-10-22      F      NaN       yahoo.it   \n",
       "1       655484      639856  2001-04-30      M      NaN       yahoo.it   \n",
       "2       514958      494806  2001-01-01      M      NaN      libero.it   \n",
       "3       398355      377261  2000-03-09      M      NaN      gmail.com   \n",
       "4        23808       20227  1999-11-21      F      NaN    virgilio.it   \n",
       "\n",
       "   flag_phone_provided  flag_privacy  \n",
       "0                  1.0          True  \n",
       "1                  1.0         False  \n",
       "2                  1.0          True  \n",
       "3                  1.0          True  \n",
       "4                  1.0          True  "
      ]
     },
     "metadata": {},
     "output_type": "display_data"
    },
    {
     "name": "stdout",
     "output_type": "stream",
     "text": [
      "\n",
      "Unique head values for Customers:\n",
      "customer_id:\n"
     ]
    },
    {
     "data": {
      "text/plain": [
       "0    891057\n",
       "1    655484\n",
       "2    514958\n",
       "3    398355\n",
       "4     23808\n",
       "Name: customer_id, dtype: int64"
      ]
     },
     "metadata": {},
     "output_type": "display_data"
    },
    {
     "name": "stdout",
     "output_type": "stream",
     "text": [
      "address_id:\n"
     ]
    },
    {
     "data": {
      "text/plain": [
       "0    863914\n",
       "1    639856\n",
       "2    494806\n",
       "3    377261\n",
       "4     20227\n",
       "Name: address_id, dtype: int64"
      ]
     },
     "metadata": {},
     "output_type": "display_data"
    },
    {
     "name": "stdout",
     "output_type": "stream",
     "text": [
      "birthdate:\n"
     ]
    },
    {
     "data": {
      "text/plain": [
       "0    2001-10-22\n",
       "1    2001-04-30\n",
       "2    2001-01-01\n",
       "3    2000-03-09\n",
       "4    1999-11-21\n",
       "Name: birthdate, dtype: object"
      ]
     },
     "metadata": {},
     "output_type": "display_data"
    },
    {
     "name": "stdout",
     "output_type": "stream",
     "text": [
      "gender:\n"
     ]
    },
    {
     "data": {
      "text/plain": [
       "0    F\n",
       "1    M\n",
       "Name: gender, dtype: object"
      ]
     },
     "metadata": {},
     "output_type": "display_data"
    },
    {
     "name": "stdout",
     "output_type": "stream",
     "text": [
      "job_type:\n"
     ]
    },
    {
     "data": {
      "text/plain": [
       "0                NaN\n",
       "135    self-employed\n",
       "267       unemployed\n",
       "337         employee\n",
       "383           others\n",
       "Name: job_type, dtype: object"
      ]
     },
     "metadata": {},
     "output_type": "display_data"
    },
    {
     "name": "stdout",
     "output_type": "stream",
     "text": [
      "email_provider:\n"
     ]
    },
    {
     "data": {
      "text/plain": [
       "0       yahoo.it\n",
       "2      libero.it\n",
       "3      gmail.com\n",
       "4    virgilio.it\n",
       "5       alice.it\n",
       "Name: email_provider, dtype: object"
      ]
     },
     "metadata": {},
     "output_type": "display_data"
    },
    {
     "name": "stdout",
     "output_type": "stream",
     "text": [
      "flag_phone_provided:\n"
     ]
    },
    {
     "data": {
      "text/plain": [
       "0     1.0\n",
       "10    NaN\n",
       "Name: flag_phone_provided, dtype: float64"
      ]
     },
     "metadata": {},
     "output_type": "display_data"
    },
    {
     "name": "stdout",
     "output_type": "stream",
     "text": [
      "flag_privacy:\n"
     ]
    },
    {
     "data": {
      "text/plain": [
       "0     True\n",
       "1    False\n",
       "Name: flag_privacy, dtype: bool"
      ]
     },
     "metadata": {},
     "output_type": "display_data"
    }
   ],
   "source": [
    "# Load and inspect Customers data\n",
    "customers_path = file_paths['Customers']\n",
    "customers_df = pd.read_csv(customers_path)\n",
    "\n",
    "print(f\"\\nHead of Customers:\")\n",
    "display(customers_df.head(5))\n",
    "display_unique_values(customers_df, 'Customers')\n"
   ]
  },
  {
   "cell_type": "markdown",
   "metadata": {},
   "source": [
    "### Products Data"
   ]
  },
  {
   "cell_type": "code",
   "execution_count": 7,
   "metadata": {},
   "outputs": [
    {
     "name": "stdout",
     "output_type": "stream",
     "text": [
      "\n",
      "Head of Products:\n"
     ]
    },
    {
     "data": {
      "text/html": [
       "<div>\n",
       "<style scoped>\n",
       "    .dataframe tbody tr th:only-of-type {\n",
       "        vertical-align: middle;\n",
       "    }\n",
       "\n",
       "    .dataframe tbody tr th {\n",
       "        vertical-align: top;\n",
       "    }\n",
       "\n",
       "    .dataframe thead th {\n",
       "        text-align: right;\n",
       "    }\n",
       "</style>\n",
       "<table border=\"1\" class=\"dataframe\">\n",
       "  <thead>\n",
       "    <tr style=\"text-align: right;\">\n",
       "      <th></th>\n",
       "      <th>product_id</th>\n",
       "      <th>product_class</th>\n",
       "    </tr>\n",
       "  </thead>\n",
       "  <tbody>\n",
       "    <tr>\n",
       "      <th>0</th>\n",
       "      <td>35996051</td>\n",
       "      <td>9</td>\n",
       "    </tr>\n",
       "    <tr>\n",
       "      <th>1</th>\n",
       "      <td>35980371</td>\n",
       "      <td>14</td>\n",
       "    </tr>\n",
       "    <tr>\n",
       "      <th>2</th>\n",
       "      <td>31276196</td>\n",
       "      <td>4</td>\n",
       "    </tr>\n",
       "    <tr>\n",
       "      <th>3</th>\n",
       "      <td>31276224</td>\n",
       "      <td>4</td>\n",
       "    </tr>\n",
       "    <tr>\n",
       "      <th>4</th>\n",
       "      <td>31456495</td>\n",
       "      <td>4</td>\n",
       "    </tr>\n",
       "  </tbody>\n",
       "</table>\n",
       "</div>"
      ],
      "text/plain": [
       "   product_id  product_class\n",
       "0    35996051              9\n",
       "1    35980371             14\n",
       "2    31276196              4\n",
       "3    31276224              4\n",
       "4    31456495              4"
      ]
     },
     "metadata": {},
     "output_type": "display_data"
    },
    {
     "name": "stdout",
     "output_type": "stream",
     "text": [
      "\n",
      "Unique head values for Products:\n",
      "product_id:\n"
     ]
    },
    {
     "data": {
      "text/plain": [
       "0    35996051\n",
       "1    35980371\n",
       "2    31276196\n",
       "3    31276224\n",
       "4    31456495\n",
       "Name: product_id, dtype: int64"
      ]
     },
     "metadata": {},
     "output_type": "display_data"
    },
    {
     "name": "stdout",
     "output_type": "stream",
     "text": [
      "product_class:\n"
     ]
    },
    {
     "data": {
      "text/plain": [
       "0      9\n",
       "1     14\n",
       "2      4\n",
       "10    10\n",
       "11     3\n",
       "Name: product_class, dtype: int64"
      ]
     },
     "metadata": {},
     "output_type": "display_data"
    }
   ],
   "source": [
    "products_path = file_paths['Products']\n",
    "products_df = pd.read_csv(products_path)\n",
    "\n",
    "print(f\"\\nHead of Products:\")\n",
    "display(products_df.head(5))\n",
    "display_unique_values(products_df, 'Products')"
   ]
  },
  {
   "cell_type": "markdown",
   "metadata": {},
   "source": [
    "### Labelled Reviews Data"
   ]
  },
  {
   "cell_type": "code",
   "execution_count": 8,
   "metadata": {},
   "outputs": [
    {
     "name": "stdout",
     "output_type": "stream",
     "text": [
      "\n",
      "Head of Labelled Reviews:\n"
     ]
    },
    {
     "data": {
      "text/html": [
       "<div>\n",
       "<style scoped>\n",
       "    .dataframe tbody tr th:only-of-type {\n",
       "        vertical-align: middle;\n",
       "    }\n",
       "\n",
       "    .dataframe tbody tr th {\n",
       "        vertical-align: top;\n",
       "    }\n",
       "\n",
       "    .dataframe thead th {\n",
       "        text-align: right;\n",
       "    }\n",
       "</style>\n",
       "<table border=\"1\" class=\"dataframe\">\n",
       "  <thead>\n",
       "    <tr style=\"text-align: right;\">\n",
       "      <th></th>\n",
       "      <th>labelled_reviews_index</th>\n",
       "      <th>review_text</th>\n",
       "      <th>sentiment_label</th>\n",
       "    </tr>\n",
       "  </thead>\n",
       "  <tbody>\n",
       "    <tr>\n",
       "      <th>0</th>\n",
       "      <td>0</td>\n",
       "      <td>I'm no bitters expert but I bought it as a gif...</td>\n",
       "      <td>neutral</td>\n",
       "    </tr>\n",
       "    <tr>\n",
       "      <th>1</th>\n",
       "      <td>1</td>\n",
       "      <td>these are probably great in the right drinks, ...</td>\n",
       "      <td>neutral</td>\n",
       "    </tr>\n",
       "    <tr>\n",
       "      <th>2</th>\n",
       "      <td>2</td>\n",
       "      <td>I sent these to my dad for his bday and he sai...</td>\n",
       "      <td>positive</td>\n",
       "    </tr>\n",
       "    <tr>\n",
       "      <th>3</th>\n",
       "      <td>3</td>\n",
       "      <td>I purchased these as a gift for family member ...</td>\n",
       "      <td>positive</td>\n",
       "    </tr>\n",
       "    <tr>\n",
       "      <th>4</th>\n",
       "      <td>4</td>\n",
       "      <td>My wife bought me this sauce sampler for Chris...</td>\n",
       "      <td>neutral</td>\n",
       "    </tr>\n",
       "  </tbody>\n",
       "</table>\n",
       "</div>"
      ],
      "text/plain": [
       "   labelled_reviews_index                                        review_text  \\\n",
       "0                       0  I'm no bitters expert but I bought it as a gif...   \n",
       "1                       1  these are probably great in the right drinks, ...   \n",
       "2                       2  I sent these to my dad for his bday and he sai...   \n",
       "3                       3  I purchased these as a gift for family member ...   \n",
       "4                       4  My wife bought me this sauce sampler for Chris...   \n",
       "\n",
       "  sentiment_label  \n",
       "0         neutral  \n",
       "1         neutral  \n",
       "2        positive  \n",
       "3        positive  \n",
       "4         neutral  "
      ]
     },
     "metadata": {},
     "output_type": "display_data"
    },
    {
     "name": "stdout",
     "output_type": "stream",
     "text": [
      "\n",
      "Unique head values for Labelled Reviews:\n",
      "labelled_reviews_index:\n"
     ]
    },
    {
     "data": {
      "text/plain": [
       "0    0\n",
       "1    1\n",
       "2    2\n",
       "3    3\n",
       "4    4\n",
       "Name: labelled_reviews_index, dtype: int64"
      ]
     },
     "metadata": {},
     "output_type": "display_data"
    },
    {
     "name": "stdout",
     "output_type": "stream",
     "text": [
      "review_text:\n"
     ]
    },
    {
     "data": {
      "text/plain": [
       "0    I'm no bitters expert but I bought it as a gif...\n",
       "1    these are probably great in the right drinks, ...\n",
       "2    I sent these to my dad for his bday and he sai...\n",
       "3    I purchased these as a gift for family member ...\n",
       "4    My wife bought me this sauce sampler for Chris...\n",
       "Name: review_text, dtype: object"
      ]
     },
     "metadata": {},
     "output_type": "display_data"
    },
    {
     "name": "stdout",
     "output_type": "stream",
     "text": [
      "sentiment_label:\n"
     ]
    },
    {
     "data": {
      "text/plain": [
       "0      neutral\n",
       "2     positive\n",
       "37    negative\n",
       "Name: sentiment_label, dtype: object"
      ]
     },
     "metadata": {},
     "output_type": "display_data"
    }
   ],
   "source": [
    "labelled_reviews_path = file_paths['Labelled Reviews']\n",
    "labelled_reviews_df = pd.read_csv(labelled_reviews_path)\n",
    "\n",
    "print(f\"\\nHead of Labelled Reviews:\")\n",
    "display(labelled_reviews_df.head(5))\n",
    "display_unique_values(labelled_reviews_df, 'Labelled Reviews')"
   ]
  },
  {
   "cell_type": "markdown",
   "metadata": {},
   "source": [
    "### Orders Data"
   ]
  },
  {
   "cell_type": "code",
   "execution_count": 9,
   "metadata": {},
   "outputs": [
    {
     "name": "stdout",
     "output_type": "stream",
     "text": [
      "\n",
      "Head of Orders:\n"
     ]
    },
    {
     "data": {
      "text/html": [
       "<div>\n",
       "<style scoped>\n",
       "    .dataframe tbody tr th:only-of-type {\n",
       "        vertical-align: middle;\n",
       "    }\n",
       "\n",
       "    .dataframe tbody tr th {\n",
       "        vertical-align: top;\n",
       "    }\n",
       "\n",
       "    .dataframe thead th {\n",
       "        text-align: right;\n",
       "    }\n",
       "</style>\n",
       "<table border=\"1\" class=\"dataframe\">\n",
       "  <thead>\n",
       "    <tr style=\"text-align: right;\">\n",
       "      <th></th>\n",
       "      <th>order_id</th>\n",
       "      <th>customer_id</th>\n",
       "      <th>store_id</th>\n",
       "      <th>product_id</th>\n",
       "      <th>direction</th>\n",
       "      <th>gross_price</th>\n",
       "      <th>price_reduction</th>\n",
       "      <th>purchase_datetime</th>\n",
       "    </tr>\n",
       "  </thead>\n",
       "  <tbody>\n",
       "    <tr>\n",
       "      <th>0</th>\n",
       "      <td>8fe4346b53d0c781b275a614175804de</td>\n",
       "      <td>23</td>\n",
       "      <td>49</td>\n",
       "      <td>35551922</td>\n",
       "      <td>1</td>\n",
       "      <td>125.40</td>\n",
       "      <td>0.0</td>\n",
       "      <td>2022-10-04T182851</td>\n",
       "    </tr>\n",
       "    <tr>\n",
       "      <th>1</th>\n",
       "      <td>8fe4346b53d0c781b275a614175804de</td>\n",
       "      <td>23</td>\n",
       "      <td>49</td>\n",
       "      <td>30344384</td>\n",
       "      <td>1</td>\n",
       "      <td>8.30</td>\n",
       "      <td>0.0</td>\n",
       "      <td>2022-10-04T182851</td>\n",
       "    </tr>\n",
       "    <tr>\n",
       "      <th>2</th>\n",
       "      <td>8fe4346b53d0c781b275a614175804de</td>\n",
       "      <td>23</td>\n",
       "      <td>49</td>\n",
       "      <td>33794292</td>\n",
       "      <td>1</td>\n",
       "      <td>1.99</td>\n",
       "      <td>0.0</td>\n",
       "      <td>2022-10-04T182851</td>\n",
       "    </tr>\n",
       "    <tr>\n",
       "      <th>3</th>\n",
       "      <td>8fe4346b53d0c781b275a614175804de</td>\n",
       "      <td>23</td>\n",
       "      <td>49</td>\n",
       "      <td>33795776</td>\n",
       "      <td>1</td>\n",
       "      <td>5.10</td>\n",
       "      <td>0.0</td>\n",
       "      <td>2022-10-04T182851</td>\n",
       "    </tr>\n",
       "    <tr>\n",
       "      <th>4</th>\n",
       "      <td>8fe4346b53d0c781b275a614175804de</td>\n",
       "      <td>23</td>\n",
       "      <td>49</td>\n",
       "      <td>36235381</td>\n",
       "      <td>1</td>\n",
       "      <td>76.05</td>\n",
       "      <td>0.0</td>\n",
       "      <td>2022-10-04T182851</td>\n",
       "    </tr>\n",
       "  </tbody>\n",
       "</table>\n",
       "</div>"
      ],
      "text/plain": [
       "                           order_id  customer_id  store_id  product_id  \\\n",
       "0  8fe4346b53d0c781b275a614175804de           23        49    35551922   \n",
       "1  8fe4346b53d0c781b275a614175804de           23        49    30344384   \n",
       "2  8fe4346b53d0c781b275a614175804de           23        49    33794292   \n",
       "3  8fe4346b53d0c781b275a614175804de           23        49    33795776   \n",
       "4  8fe4346b53d0c781b275a614175804de           23        49    36235381   \n",
       "\n",
       "   direction  gross_price  price_reduction  purchase_datetime  \n",
       "0          1       125.40              0.0  2022-10-04T182851  \n",
       "1          1         8.30              0.0  2022-10-04T182851  \n",
       "2          1         1.99              0.0  2022-10-04T182851  \n",
       "3          1         5.10              0.0  2022-10-04T182851  \n",
       "4          1        76.05              0.0  2022-10-04T182851  "
      ]
     },
     "metadata": {},
     "output_type": "display_data"
    },
    {
     "name": "stdout",
     "output_type": "stream",
     "text": [
      "\n",
      "Unique head values for Orders:\n",
      "order_id:\n"
     ]
    },
    {
     "data": {
      "text/plain": [
       "0     8fe4346b53d0c781b275a614175804de\n",
       "5     c2ae3673970490406925dcd3f8a4d486\n",
       "12    7927c5116d8aae47d86b75f67ac94a6f\n",
       "14    c3d616db59bbc52a92b1f81901dfdd75\n",
       "17    a55b0fc1b02134f9b5fa4378a74e2e63\n",
       "Name: order_id, dtype: object"
      ]
     },
     "metadata": {},
     "output_type": "display_data"
    },
    {
     "name": "stdout",
     "output_type": "stream",
     "text": [
      "customer_id:\n"
     ]
    },
    {
     "data": {
      "text/plain": [
       "0      23\n",
       "39     30\n",
       "51     32\n",
       "62     48\n",
       "131    50\n",
       "Name: customer_id, dtype: int64"
      ]
     },
     "metadata": {},
     "output_type": "display_data"
    },
    {
     "name": "stdout",
     "output_type": "stream",
     "text": [
      "store_id:\n"
     ]
    },
    {
     "data": {
      "text/plain": [
       "0      49\n",
       "136     9\n",
       "139    15\n",
       "208    28\n",
       "385    43\n",
       "Name: store_id, dtype: int64"
      ]
     },
     "metadata": {},
     "output_type": "display_data"
    },
    {
     "name": "stdout",
     "output_type": "stream",
     "text": [
      "product_id:\n"
     ]
    },
    {
     "data": {
      "text/plain": [
       "0    35551922\n",
       "1    30344384\n",
       "2    33794292\n",
       "3    33795776\n",
       "4    36235381\n",
       "Name: product_id, dtype: int64"
      ]
     },
     "metadata": {},
     "output_type": "display_data"
    },
    {
     "name": "stdout",
     "output_type": "stream",
     "text": [
      "direction:\n"
     ]
    },
    {
     "data": {
      "text/plain": [
       "0     1\n",
       "12   -1\n",
       "Name: direction, dtype: int64"
      ]
     },
     "metadata": {},
     "output_type": "display_data"
    },
    {
     "name": "stdout",
     "output_type": "stream",
     "text": [
      "gross_price:\n"
     ]
    },
    {
     "data": {
      "text/plain": [
       "0    125.40\n",
       "1      8.30\n",
       "2      1.99\n",
       "3      5.10\n",
       "4     76.05\n",
       "Name: gross_price, dtype: float64"
      ]
     },
     "metadata": {},
     "output_type": "display_data"
    },
    {
     "name": "stdout",
     "output_type": "stream",
     "text": [
      "price_reduction:\n"
     ]
    },
    {
     "data": {
      "text/plain": [
       "0    0.00\n",
       "5    0.17\n",
       "6    0.19\n",
       "7    0.07\n",
       "8    0.99\n",
       "Name: price_reduction, dtype: float64"
      ]
     },
     "metadata": {},
     "output_type": "display_data"
    },
    {
     "name": "stdout",
     "output_type": "stream",
     "text": [
      "purchase_datetime:\n"
     ]
    },
    {
     "data": {
      "text/plain": [
       "0     2022-10-04T182851\n",
       "5     2022-10-31T130742\n",
       "12    2022-11-17T104929\n",
       "14    2022-11-17T112828\n",
       "17    2022-11-29T162628\n",
       "Name: purchase_datetime, dtype: object"
      ]
     },
     "metadata": {},
     "output_type": "display_data"
    }
   ],
   "source": [
    "orders_path = file_paths['Orders']\n",
    "orders_df = pd.read_csv(orders_path)\n",
    "\n",
    "print(f\"\\nHead of Orders:\")\n",
    "display(orders_df.head(5))\n",
    "display_unique_values(orders_df, 'Orders')"
   ]
  },
  {
   "cell_type": "markdown",
   "metadata": {},
   "source": [
    "###  Addresses Data"
   ]
  },
  {
   "cell_type": "code",
   "execution_count": 10,
   "metadata": {},
   "outputs": [
    {
     "name": "stdout",
     "output_type": "stream",
     "text": [
      "\n",
      "Head of Addresses:\n"
     ]
    },
    {
     "data": {
      "text/html": [
       "<div>\n",
       "<style scoped>\n",
       "    .dataframe tbody tr th:only-of-type {\n",
       "        vertical-align: middle;\n",
       "    }\n",
       "\n",
       "    .dataframe tbody tr th {\n",
       "        vertical-align: top;\n",
       "    }\n",
       "\n",
       "    .dataframe thead th {\n",
       "        text-align: right;\n",
       "    }\n",
       "</style>\n",
       "<table border=\"1\" class=\"dataframe\">\n",
       "  <thead>\n",
       "    <tr style=\"text-align: right;\">\n",
       "      <th></th>\n",
       "      <th>address_id</th>\n",
       "      <th>postal_code</th>\n",
       "      <th>district</th>\n",
       "      <th>region</th>\n",
       "    </tr>\n",
       "  </thead>\n",
       "  <tbody>\n",
       "    <tr>\n",
       "      <th>0</th>\n",
       "      <td>1337</td>\n",
       "      <td>20083.0</td>\n",
       "      <td>MI</td>\n",
       "      <td>LOMBARDIA</td>\n",
       "    </tr>\n",
       "    <tr>\n",
       "      <th>1</th>\n",
       "      <td>1347</td>\n",
       "      <td>20090.0</td>\n",
       "      <td>MI</td>\n",
       "      <td>LOMBARDIA</td>\n",
       "    </tr>\n",
       "    <tr>\n",
       "      <th>2</th>\n",
       "      <td>1347</td>\n",
       "      <td>20090.0</td>\n",
       "      <td>MI</td>\n",
       "      <td>LOMBARDIA</td>\n",
       "    </tr>\n",
       "    <tr>\n",
       "      <th>3</th>\n",
       "      <td>1347</td>\n",
       "      <td>20090.0</td>\n",
       "      <td>MI</td>\n",
       "      <td>LOMBARDIA</td>\n",
       "    </tr>\n",
       "    <tr>\n",
       "      <th>4</th>\n",
       "      <td>1347</td>\n",
       "      <td>20090.0</td>\n",
       "      <td>MI</td>\n",
       "      <td>LOMBARDIA</td>\n",
       "    </tr>\n",
       "  </tbody>\n",
       "</table>\n",
       "</div>"
      ],
      "text/plain": [
       "   address_id  postal_code district     region\n",
       "0        1337      20083.0       MI  LOMBARDIA\n",
       "1        1347      20090.0       MI  LOMBARDIA\n",
       "2        1347      20090.0       MI  LOMBARDIA\n",
       "3        1347      20090.0       MI  LOMBARDIA\n",
       "4        1347      20090.0       MI  LOMBARDIA"
      ]
     },
     "metadata": {},
     "output_type": "display_data"
    },
    {
     "name": "stdout",
     "output_type": "stream",
     "text": [
      "\n",
      "Unique head values for Addresses:\n",
      "address_id:\n"
     ]
    },
    {
     "data": {
      "text/plain": [
       "0     1337\n",
       "1     1347\n",
       "5     1387\n",
       "6     1412\n",
       "10    1418\n",
       "Name: address_id, dtype: int64"
      ]
     },
     "metadata": {},
     "output_type": "display_data"
    },
    {
     "name": "stdout",
     "output_type": "stream",
     "text": [
      "postal_code:\n"
     ]
    },
    {
     "data": {
      "text/plain": [
       "0     20083.0\n",
       "1     20090.0\n",
       "5     20084.0\n",
       "10    20147.0\n",
       "11    20126.0\n",
       "Name: postal_code, dtype: float64"
      ]
     },
     "metadata": {},
     "output_type": "display_data"
    },
    {
     "name": "stdout",
     "output_type": "stream",
     "text": [
      "district:\n"
     ]
    },
    {
     "data": {
      "text/plain": [
       "0     MI\n",
       "21    CT\n",
       "39    PV\n",
       "42    BO\n",
       "53    TO\n",
       "Name: district, dtype: object"
      ]
     },
     "metadata": {},
     "output_type": "display_data"
    },
    {
     "name": "stdout",
     "output_type": "stream",
     "text": [
      "region:\n"
     ]
    },
    {
     "data": {
      "text/plain": [
       "0          LOMBARDIA\n",
       "21           SICILIA\n",
       "42    EMILIA ROMAGNA\n",
       "53          PIEMONTE\n",
       "54            PUGLIA\n",
       "Name: region, dtype: object"
      ]
     },
     "metadata": {},
     "output_type": "display_data"
    }
   ],
   "source": [
    "addresses_path = file_paths['Addresses']\n",
    "addresses_df = pd.read_csv(addresses_path)\n",
    "\n",
    "print(f\"\\nHead of Addresses:\")\n",
    "display(addresses_df.head(5))\n",
    "display_unique_values(addresses_df, 'Addresses')"
   ]
  },
  {
   "cell_type": "markdown",
   "metadata": {},
   "source": [
    "### Customer Reviews Data"
   ]
  },
  {
   "cell_type": "code",
   "execution_count": 11,
   "metadata": {},
   "outputs": [
    {
     "name": "stdout",
     "output_type": "stream",
     "text": [
      "\n",
      "Head of Customer Reviews:\n"
     ]
    },
    {
     "data": {
      "text/html": [
       "<div>\n",
       "<style scoped>\n",
       "    .dataframe tbody tr th:only-of-type {\n",
       "        vertical-align: middle;\n",
       "    }\n",
       "\n",
       "    .dataframe tbody tr th {\n",
       "        vertical-align: top;\n",
       "    }\n",
       "\n",
       "    .dataframe thead th {\n",
       "        text-align: right;\n",
       "    }\n",
       "</style>\n",
       "<table border=\"1\" class=\"dataframe\">\n",
       "  <thead>\n",
       "    <tr style=\"text-align: right;\">\n",
       "      <th></th>\n",
       "      <th>review_id</th>\n",
       "      <th>customer_id</th>\n",
       "      <th>review_text</th>\n",
       "    </tr>\n",
       "  </thead>\n",
       "  <tbody>\n",
       "    <tr>\n",
       "      <th>0</th>\n",
       "      <td>1</td>\n",
       "      <td>814256</td>\n",
       "      <td>I have bought several of the Vitality canned d...</td>\n",
       "    </tr>\n",
       "    <tr>\n",
       "      <th>1</th>\n",
       "      <td>2</td>\n",
       "      <td>457475</td>\n",
       "      <td>Product arrived labeled as Jumbo Salted Peanut...</td>\n",
       "    </tr>\n",
       "    <tr>\n",
       "      <th>2</th>\n",
       "      <td>3</td>\n",
       "      <td>104045</td>\n",
       "      <td>This is a confection that has been around a fe...</td>\n",
       "    </tr>\n",
       "    <tr>\n",
       "      <th>3</th>\n",
       "      <td>4</td>\n",
       "      <td>603662</td>\n",
       "      <td>If you are looking for the secret ingredient i...</td>\n",
       "    </tr>\n",
       "    <tr>\n",
       "      <th>4</th>\n",
       "      <td>5</td>\n",
       "      <td>739314</td>\n",
       "      <td>Great taffy at a great price.  There was a wid...</td>\n",
       "    </tr>\n",
       "  </tbody>\n",
       "</table>\n",
       "</div>"
      ],
      "text/plain": [
       "   review_id  customer_id                                        review_text\n",
       "0          1       814256  I have bought several of the Vitality canned d...\n",
       "1          2       457475  Product arrived labeled as Jumbo Salted Peanut...\n",
       "2          3       104045  This is a confection that has been around a fe...\n",
       "3          4       603662  If you are looking for the secret ingredient i...\n",
       "4          5       739314  Great taffy at a great price.  There was a wid..."
      ]
     },
     "metadata": {},
     "output_type": "display_data"
    },
    {
     "name": "stdout",
     "output_type": "stream",
     "text": [
      "\n",
      "Unique head values for Customer Reviews:\n",
      "review_id:\n"
     ]
    },
    {
     "data": {
      "text/plain": [
       "0    1\n",
       "1    2\n",
       "2    3\n",
       "3    4\n",
       "4    5\n",
       "Name: review_id, dtype: int64"
      ]
     },
     "metadata": {},
     "output_type": "display_data"
    },
    {
     "name": "stdout",
     "output_type": "stream",
     "text": [
      "customer_id:\n"
     ]
    },
    {
     "data": {
      "text/plain": [
       "0    814256\n",
       "1    457475\n",
       "2    104045\n",
       "3    603662\n",
       "4    739314\n",
       "Name: customer_id, dtype: int64"
      ]
     },
     "metadata": {},
     "output_type": "display_data"
    },
    {
     "name": "stdout",
     "output_type": "stream",
     "text": [
      "review_text:\n"
     ]
    },
    {
     "data": {
      "text/plain": [
       "0    I have bought several of the Vitality canned d...\n",
       "1    Product arrived labeled as Jumbo Salted Peanut...\n",
       "2    This is a confection that has been around a fe...\n",
       "3    If you are looking for the secret ingredient i...\n",
       "4    Great taffy at a great price.  There was a wid...\n",
       "Name: review_text, dtype: object"
      ]
     },
     "metadata": {},
     "output_type": "display_data"
    }
   ],
   "source": [
    "customer_reviews_path = file_paths['Customer Reviews']\n",
    "customer_reviews_df = pd.read_csv(customer_reviews_path)\n",
    "\n",
    "print(f\"\\nHead of Customer Reviews:\")\n",
    "display(customer_reviews_df.head(5))\n",
    "display_unique_values(customer_reviews_df, 'Customer Reviews')\n"
   ]
  },
  {
   "cell_type": "markdown",
   "metadata": {},
   "source": [
    "### Customer Accounts Data"
   ]
  },
  {
   "cell_type": "code",
   "execution_count": 12,
   "metadata": {},
   "outputs": [
    {
     "name": "stdout",
     "output_type": "stream",
     "text": [
      "\n",
      "Head of Customer Accounts:\n"
     ]
    },
    {
     "data": {
      "text/html": [
       "<div>\n",
       "<style scoped>\n",
       "    .dataframe tbody tr th:only-of-type {\n",
       "        vertical-align: middle;\n",
       "    }\n",
       "\n",
       "    .dataframe tbody tr th {\n",
       "        vertical-align: top;\n",
       "    }\n",
       "\n",
       "    .dataframe thead th {\n",
       "        text-align: right;\n",
       "    }\n",
       "</style>\n",
       "<table border=\"1\" class=\"dataframe\">\n",
       "  <thead>\n",
       "    <tr style=\"text-align: right;\">\n",
       "      <th></th>\n",
       "      <th>customer_id</th>\n",
       "      <th>account_id</th>\n",
       "      <th>favorite_store</th>\n",
       "      <th>loyalty_type</th>\n",
       "      <th>loyatlty_status</th>\n",
       "      <th>activation_date</th>\n",
       "    </tr>\n",
       "  </thead>\n",
       "  <tbody>\n",
       "    <tr>\n",
       "      <th>0</th>\n",
       "      <td>9557</td>\n",
       "      <td>746573</td>\n",
       "      <td>9</td>\n",
       "      <td>premium</td>\n",
       "      <td>1</td>\n",
       "      <td>2023-01-11</td>\n",
       "    </tr>\n",
       "    <tr>\n",
       "      <th>1</th>\n",
       "      <td>743090</td>\n",
       "      <td>776971</td>\n",
       "      <td>2</td>\n",
       "      <td>premium</td>\n",
       "      <td>1</td>\n",
       "      <td>2023-01-30</td>\n",
       "    </tr>\n",
       "    <tr>\n",
       "      <th>2</th>\n",
       "      <td>813156</td>\n",
       "      <td>791681</td>\n",
       "      <td>45</td>\n",
       "      <td>premium</td>\n",
       "      <td>1</td>\n",
       "      <td>2023-02-08</td>\n",
       "    </tr>\n",
       "    <tr>\n",
       "      <th>3</th>\n",
       "      <td>843392</td>\n",
       "      <td>825439</td>\n",
       "      <td>1</td>\n",
       "      <td>premium</td>\n",
       "      <td>1</td>\n",
       "      <td>2023-03-01</td>\n",
       "    </tr>\n",
       "    <tr>\n",
       "      <th>4</th>\n",
       "      <td>20476</td>\n",
       "      <td>815010</td>\n",
       "      <td>16</td>\n",
       "      <td>premium</td>\n",
       "      <td>1</td>\n",
       "      <td>2023-02-23</td>\n",
       "    </tr>\n",
       "  </tbody>\n",
       "</table>\n",
       "</div>"
      ],
      "text/plain": [
       "   customer_id  account_id  favorite_store loyalty_type  loyatlty_status  \\\n",
       "0         9557      746573               9      premium                1   \n",
       "1       743090      776971               2      premium                1   \n",
       "2       813156      791681              45      premium                1   \n",
       "3       843392      825439               1      premium                1   \n",
       "4        20476      815010              16      premium                1   \n",
       "\n",
       "  activation_date  \n",
       "0      2023-01-11  \n",
       "1      2023-01-30  \n",
       "2      2023-02-08  \n",
       "3      2023-03-01  \n",
       "4      2023-02-23  "
      ]
     },
     "metadata": {},
     "output_type": "display_data"
    },
    {
     "name": "stdout",
     "output_type": "stream",
     "text": [
      "\n",
      "Unique head values for Customer Accounts:\n",
      "customer_id:\n"
     ]
    },
    {
     "data": {
      "text/plain": [
       "0      9557\n",
       "1    743090\n",
       "2    813156\n",
       "3    843392\n",
       "4     20476\n",
       "Name: customer_id, dtype: int64"
      ]
     },
     "metadata": {},
     "output_type": "display_data"
    },
    {
     "name": "stdout",
     "output_type": "stream",
     "text": [
      "account_id:\n"
     ]
    },
    {
     "data": {
      "text/plain": [
       "0    746573\n",
       "1    776971\n",
       "2    791681\n",
       "3    825439\n",
       "4    815010\n",
       "Name: account_id, dtype: int64"
      ]
     },
     "metadata": {},
     "output_type": "display_data"
    },
    {
     "name": "stdout",
     "output_type": "stream",
     "text": [
      "favorite_store:\n"
     ]
    },
    {
     "data": {
      "text/plain": [
       "0     9\n",
       "1     2\n",
       "2    45\n",
       "3     1\n",
       "4    16\n",
       "Name: favorite_store, dtype: int64"
      ]
     },
     "metadata": {},
     "output_type": "display_data"
    },
    {
     "name": "stdout",
     "output_type": "stream",
     "text": [
      "loyalty_type:\n"
     ]
    },
    {
     "data": {
      "text/plain": [
       "0               premium\n",
       "10     business premium\n",
       "34             standard\n",
       "41    business standard\n",
       "Name: loyalty_type, dtype: object"
      ]
     },
     "metadata": {},
     "output_type": "display_data"
    },
    {
     "name": "stdout",
     "output_type": "stream",
     "text": [
      "loyatlty_status:\n"
     ]
    },
    {
     "data": {
      "text/plain": [
       "0     1\n",
       "38    0\n",
       "Name: loyatlty_status, dtype: int64"
      ]
     },
     "metadata": {},
     "output_type": "display_data"
    },
    {
     "name": "stdout",
     "output_type": "stream",
     "text": [
      "activation_date:\n"
     ]
    },
    {
     "data": {
      "text/plain": [
       "0    2023-01-11\n",
       "1    2023-01-30\n",
       "2    2023-02-08\n",
       "3    2023-03-01\n",
       "4    2023-02-23\n",
       "Name: activation_date, dtype: object"
      ]
     },
     "metadata": {},
     "output_type": "display_data"
    }
   ],
   "source": [
    "customer_accounts_path = file_paths['Customer Accounts']\n",
    "customer_accounts_df = pd.read_csv(customer_accounts_path)\n",
    "\n",
    "print(f\"\\nHead of Customer Accounts:\")\n",
    "display(customer_accounts_df.head(5))\n",
    "display_unique_values(customer_accounts_df, 'Customer Accounts')"
   ]
  },
  {
   "cell_type": "markdown",
   "metadata": {},
   "source": [
    "#### Data quality"
   ]
  },
  {
   "cell_type": "code",
   "execution_count": 13,
   "metadata": {},
   "outputs": [
    {
     "name": "stdout",
     "output_type": "stream",
     "text": [
      "\n",
      "Checking data quality for Customers:\n",
      "Missing values:\n",
      "customer_id                 0\n",
      "address_id                  0\n",
      "birthdate                   0\n",
      "gender                      0\n",
      "job_type               136651\n",
      "email_provider           1835\n",
      "flag_phone_provided     11271\n",
      "flag_privacy                0\n",
      "dtype: int64\n",
      "\n",
      "Total number of rows: 140946\n",
      "Duplicate rows: 0\n",
      "\n",
      "Data types:\n",
      "customer_id              int64\n",
      "address_id               int64\n",
      "birthdate               object\n",
      "gender                  object\n",
      "job_type                object\n",
      "email_provider          object\n",
      "flag_phone_provided    float64\n",
      "flag_privacy              bool\n",
      "dtype: object\n",
      "\n",
      "Basic statistics:\n",
      "         customer_id     address_id  flag_phone_provided\n",
      "count  140946.000000  140946.000000             129675.0\n",
      "mean   450451.869964  447884.747208                  1.0\n",
      "std    257963.180963  253491.183083                  0.0\n",
      "min        23.000000      21.000000                  1.0\n",
      "25%    235540.000000  241057.750000                  1.0\n",
      "50%    453484.500000  448548.000000                  1.0\n",
      "75%    662564.500000  656004.000000                  1.0\n",
      "max    934879.000000  900091.000000                  1.0\n",
      "\n",
      "Checking data quality for Products:\n",
      "Missing values:\n",
      "product_id       0\n",
      "product_class    0\n",
      "dtype: int64\n",
      "\n",
      "Total number of rows: 88538\n",
      "Duplicate rows: 0\n",
      "\n",
      "Data types:\n",
      "product_id       int64\n",
      "product_class    int64\n",
      "dtype: object\n",
      "\n",
      "Basic statistics:\n",
      "         product_id  product_class\n",
      "count  8.853800e+04   88538.000000\n",
      "mean   4.138279e+07       8.241851\n",
      "std    1.602699e+07       3.538264\n",
      "min    1.692100e+04       1.000000\n",
      "25%    3.465072e+07       6.000000\n",
      "50%    3.576238e+07       9.000000\n",
      "75%    3.630907e+07      11.000000\n",
      "max    8.221500e+07      14.000000\n",
      "\n",
      "Checking data quality for Labelled Reviews:\n",
      "Missing values:\n",
      "labelled_reviews_index    0\n",
      "review_text               0\n",
      "sentiment_label           0\n",
      "dtype: int64\n",
      "\n",
      "Total number of rows: 462744\n"
     ]
    },
    {
     "name": "stdout",
     "output_type": "stream",
     "text": [
      "Duplicate rows: 0\n",
      "\n",
      "Data types:\n",
      "labelled_reviews_index     int64\n",
      "review_text               object\n",
      "sentiment_label           object\n",
      "dtype: object\n",
      "\n",
      "Basic statistics:\n",
      "       labelled_reviews_index\n",
      "count            462744.00000\n",
      "mean             231371.50000\n",
      "std              133582.83082\n",
      "min                   0.00000\n",
      "25%              115685.75000\n",
      "50%              231371.50000\n",
      "75%              347057.25000\n",
      "max              462743.00000\n",
      "\n",
      "Checking data quality for Orders:\n",
      "Missing values:\n",
      "order_id             0\n",
      "customer_id          0\n",
      "store_id             0\n",
      "product_id           0\n",
      "direction            0\n",
      "gross_price          0\n",
      "price_reduction      0\n",
      "purchase_datetime    0\n",
      "dtype: int64\n",
      "\n",
      "Total number of rows: 1039865\n",
      "Duplicate rows: 122865\n",
      "\n",
      "Data types:\n",
      "order_id              object\n",
      "customer_id            int64\n",
      "store_id               int64\n",
      "product_id             int64\n",
      "direction              int64\n",
      "gross_price          float64\n",
      "price_reduction      float64\n",
      "purchase_datetime     object\n",
      "dtype: object\n",
      "\n",
      "Basic statistics:\n",
      "        customer_id      store_id    product_id     direction   gross_price  \\\n",
      "count  1.039865e+06  1.039865e+06  1.039865e+06  1.039865e+06  1.039865e+06   \n",
      "mean   4.199911e+05  2.593901e+01  3.708595e+07  8.796825e-01  2.661887e+01   \n",
      "std    2.415660e+05  1.417126e+01  9.893595e+06  4.755618e-01  1.186921e+02   \n",
      "min    2.300000e+01  2.000000e+00  5.045530e+05 -1.000000e+00 -1.746500e+04   \n",
      "25%    2.231400e+05  1.400000e+01  3.380159e+07  1.000000e+00  1.850000e+00   \n",
      "50%    4.251650e+05  2.700000e+01  3.530825e+07  1.000000e+00  4.990000e+00   \n",
      "75%    6.114470e+05  3.800000e+01  3.607911e+07  1.000000e+00  1.499000e+01   \n",
      "max    9.347160e+05  4.900000e+01  8.204297e+07  1.000000e+00  1.746500e+04   \n",
      "\n",
      "       price_reduction  \n",
      "count     1.039865e+06  \n",
      "mean      2.118577e+00  \n",
      "std       1.639026e+01  \n",
      "min      -2.095800e+03  \n",
      "25%       0.000000e+00  \n",
      "50%       0.000000e+00  \n",
      "75%       0.000000e+00  \n",
      "max       2.096500e+03  \n",
      "\n",
      "Checking data quality for Addresses:\n",
      "Missing values:\n",
      "address_id         0\n",
      "postal_code       49\n",
      "district       19066\n",
      "region          6746\n",
      "dtype: int64\n",
      "\n",
      "Total number of rows: 245425\n",
      "Duplicate rows: 87660\n",
      "\n",
      "Data types:\n",
      "address_id       int64\n",
      "postal_code    float64\n",
      "district        object\n",
      "region          object\n",
      "dtype: object\n",
      "\n",
      "Basic statistics:\n",
      "          address_id    postal_code\n",
      "count  245425.000000  245376.000000\n",
      "mean   440592.550551   35747.306896\n",
      "std    250383.968027   26846.646028\n",
      "min        13.000000       0.000000\n",
      "25%    234349.000000   20080.000000\n",
      "50%    440622.000000   25030.000000\n",
      "75%    646862.000000   50066.000000\n",
      "max    900090.000000   99999.000000\n",
      "\n",
      "Checking data quality for Customer Reviews:\n",
      "Missing values:\n",
      "review_id      0\n",
      "customer_id    0\n",
      "review_text    0\n",
      "dtype: int64\n",
      "\n",
      "Total number of rows: 105710\n",
      "Duplicate rows: 0\n",
      "\n",
      "Data types:\n",
      "review_id       int64\n",
      "customer_id     int64\n",
      "review_text    object\n",
      "dtype: object\n",
      "\n",
      "Basic statistics:\n",
      "           review_id    customer_id\n",
      "count  105710.000000  105710.000000\n",
      "mean    70485.181042  450074.080882\n",
      "std     40663.780914  257766.486270\n",
      "min         1.000000      23.000000\n",
      "25%     35293.250000  235168.500000\n",
      "50%     70454.500000  453030.500000\n",
      "75%    105772.500000  662124.000000\n",
      "max    140946.000000  934879.000000\n",
      "\n",
      "Checking data quality for Customer Accounts:\n",
      "Missing values:\n",
      "customer_id        0\n",
      "account_id         0\n",
      "favorite_store     0\n",
      "loyalty_type       0\n",
      "loyatlty_status    0\n",
      "activation_date    0\n",
      "dtype: int64\n",
      "\n",
      "Total number of rows: 169494\n",
      "Duplicate rows: 0\n",
      "\n",
      "Data types:\n",
      "customer_id         int64\n",
      "account_id          int64\n",
      "favorite_store      int64\n",
      "loyalty_type       object\n",
      "loyatlty_status     int64\n",
      "activation_date    object\n",
      "dtype: object\n",
      "\n",
      "Basic statistics:\n",
      "         customer_id     account_id  favorite_store  loyatlty_status\n",
      "count  169494.000000  169494.000000   169494.000000    169494.000000\n",
      "mean   453477.476807  454051.698202       22.794506         0.992153\n",
      "std    260804.531519  253823.105754       15.601191         0.088235\n",
      "min        16.000000       3.000000        1.000000         0.000000\n",
      "25%    233721.500000  246909.250000        7.000000         1.000000\n",
      "50%    455237.500000  450119.500000       24.000000         1.000000\n",
      "75%    670383.750000  664456.000000       37.000000         1.000000\n",
      "max    934892.000000  928121.000000       49.000000         1.000000\n"
     ]
    }
   ],
   "source": [
    "for name, path in file_paths.items():\n",
    "    df = pd.read_csv(path)\n",
    "\n",
    "    print(f\"\\nChecking data quality for {name}:\")\n",
    "    \n",
    "    print(\"Missing values:\")\n",
    "    print(df.isna().sum())\n",
    "    \n",
    "    print(f\"\\nTotal number of rows: {len(df)}\")\n",
    "    print(\"Duplicate rows:\", df.duplicated().sum())\n",
    "    \n",
    "    print(\"\\nData types:\")\n",
    "    print(df.dtypes)\n",
    "    \n",
    "    print(\"\\nBasic statistics:\")\n",
    "    print(df.describe())\n"
   ]
  },
  {
   "cell_type": "markdown",
   "metadata": {},
   "source": [
    "#### Duplicate Rows for Orders and Addresses "
   ]
  },
  {
   "cell_type": "code",
   "execution_count": 14,
   "metadata": {},
   "outputs": [
    {
     "name": "stdout",
     "output_type": "stream",
     "text": [
      "\n",
      "Finding duplicates in Orders:\n"
     ]
    },
    {
     "data": {
      "text/html": [
       "<div>\n",
       "<style scoped>\n",
       "    .dataframe tbody tr th:only-of-type {\n",
       "        vertical-align: middle;\n",
       "    }\n",
       "\n",
       "    .dataframe tbody tr th {\n",
       "        vertical-align: top;\n",
       "    }\n",
       "\n",
       "    .dataframe thead th {\n",
       "        text-align: right;\n",
       "    }\n",
       "</style>\n",
       "<table border=\"1\" class=\"dataframe\">\n",
       "  <thead>\n",
       "    <tr style=\"text-align: right;\">\n",
       "      <th></th>\n",
       "      <th>order_id</th>\n",
       "      <th>customer_id</th>\n",
       "      <th>store_id</th>\n",
       "      <th>product_id</th>\n",
       "      <th>direction</th>\n",
       "      <th>gross_price</th>\n",
       "      <th>price_reduction</th>\n",
       "      <th>purchase_datetime</th>\n",
       "    </tr>\n",
       "  </thead>\n",
       "  <tbody>\n",
       "    <tr>\n",
       "      <th>0</th>\n",
       "      <td>8fe4346b53d0c781b275a614175804de</td>\n",
       "      <td>23</td>\n",
       "      <td>49</td>\n",
       "      <td>35551922</td>\n",
       "      <td>1</td>\n",
       "      <td>125.40</td>\n",
       "      <td>0.00</td>\n",
       "      <td>2022-10-04T182851</td>\n",
       "    </tr>\n",
       "    <tr>\n",
       "      <th>1</th>\n",
       "      <td>8fe4346b53d0c781b275a614175804de</td>\n",
       "      <td>23</td>\n",
       "      <td>49</td>\n",
       "      <td>30344384</td>\n",
       "      <td>1</td>\n",
       "      <td>8.30</td>\n",
       "      <td>0.00</td>\n",
       "      <td>2022-10-04T182851</td>\n",
       "    </tr>\n",
       "    <tr>\n",
       "      <th>2</th>\n",
       "      <td>8fe4346b53d0c781b275a614175804de</td>\n",
       "      <td>23</td>\n",
       "      <td>49</td>\n",
       "      <td>33794292</td>\n",
       "      <td>1</td>\n",
       "      <td>1.99</td>\n",
       "      <td>0.00</td>\n",
       "      <td>2022-10-04T182851</td>\n",
       "    </tr>\n",
       "    <tr>\n",
       "      <th>3</th>\n",
       "      <td>8fe4346b53d0c781b275a614175804de</td>\n",
       "      <td>23</td>\n",
       "      <td>49</td>\n",
       "      <td>33795776</td>\n",
       "      <td>1</td>\n",
       "      <td>5.10</td>\n",
       "      <td>0.00</td>\n",
       "      <td>2022-10-04T182851</td>\n",
       "    </tr>\n",
       "    <tr>\n",
       "      <th>4</th>\n",
       "      <td>8fe4346b53d0c781b275a614175804de</td>\n",
       "      <td>23</td>\n",
       "      <td>49</td>\n",
       "      <td>36235381</td>\n",
       "      <td>1</td>\n",
       "      <td>76.05</td>\n",
       "      <td>0.00</td>\n",
       "      <td>2022-10-04T182851</td>\n",
       "    </tr>\n",
       "    <tr>\n",
       "      <th>...</th>\n",
       "      <td>...</td>\n",
       "      <td>...</td>\n",
       "      <td>...</td>\n",
       "      <td>...</td>\n",
       "      <td>...</td>\n",
       "      <td>...</td>\n",
       "      <td>...</td>\n",
       "      <td>...</td>\n",
       "    </tr>\n",
       "    <tr>\n",
       "      <th>1039857</th>\n",
       "      <td>b577e0cb3254ef8e4965ebc0643c90af</td>\n",
       "      <td>934484</td>\n",
       "      <td>17</td>\n",
       "      <td>36507275</td>\n",
       "      <td>1</td>\n",
       "      <td>9.90</td>\n",
       "      <td>0.00</td>\n",
       "      <td>2023-04-30T190211</td>\n",
       "    </tr>\n",
       "    <tr>\n",
       "      <th>1039858</th>\n",
       "      <td>b577e0cb3254ef8e4965ebc0643c90af</td>\n",
       "      <td>934484</td>\n",
       "      <td>17</td>\n",
       "      <td>31087273</td>\n",
       "      <td>1</td>\n",
       "      <td>1.76</td>\n",
       "      <td>0.00</td>\n",
       "      <td>2023-04-30T190211</td>\n",
       "    </tr>\n",
       "    <tr>\n",
       "      <th>1039859</th>\n",
       "      <td>b577e0cb3254ef8e4965ebc0643c90af</td>\n",
       "      <td>934484</td>\n",
       "      <td>17</td>\n",
       "      <td>31993381</td>\n",
       "      <td>1</td>\n",
       "      <td>23.99</td>\n",
       "      <td>4.09</td>\n",
       "      <td>2023-04-30T190211</td>\n",
       "    </tr>\n",
       "    <tr>\n",
       "      <th>1039861</th>\n",
       "      <td>86c9c4fdb8829e2ab90a86a357763419</td>\n",
       "      <td>934620</td>\n",
       "      <td>44</td>\n",
       "      <td>36237691</td>\n",
       "      <td>1</td>\n",
       "      <td>11.99</td>\n",
       "      <td>0.00</td>\n",
       "      <td>2023-04-30T191955</td>\n",
       "    </tr>\n",
       "    <tr>\n",
       "      <th>1039862</th>\n",
       "      <td>86c9c4fdb8829e2ab90a86a357763419</td>\n",
       "      <td>934620</td>\n",
       "      <td>44</td>\n",
       "      <td>81259479</td>\n",
       "      <td>1</td>\n",
       "      <td>9.99</td>\n",
       "      <td>0.00</td>\n",
       "      <td>2023-04-30T191955</td>\n",
       "    </tr>\n",
       "  </tbody>\n",
       "</table>\n",
       "<p>869795 rows × 8 columns</p>\n",
       "</div>"
      ],
      "text/plain": [
       "                                 order_id  customer_id  store_id  product_id  \\\n",
       "0        8fe4346b53d0c781b275a614175804de           23        49    35551922   \n",
       "1        8fe4346b53d0c781b275a614175804de           23        49    30344384   \n",
       "2        8fe4346b53d0c781b275a614175804de           23        49    33794292   \n",
       "3        8fe4346b53d0c781b275a614175804de           23        49    33795776   \n",
       "4        8fe4346b53d0c781b275a614175804de           23        49    36235381   \n",
       "...                                   ...          ...       ...         ...   \n",
       "1039857  b577e0cb3254ef8e4965ebc0643c90af       934484        17    36507275   \n",
       "1039858  b577e0cb3254ef8e4965ebc0643c90af       934484        17    31087273   \n",
       "1039859  b577e0cb3254ef8e4965ebc0643c90af       934484        17    31993381   \n",
       "1039861  86c9c4fdb8829e2ab90a86a357763419       934620        44    36237691   \n",
       "1039862  86c9c4fdb8829e2ab90a86a357763419       934620        44    81259479   \n",
       "\n",
       "         direction  gross_price  price_reduction  purchase_datetime  \n",
       "0                1       125.40             0.00  2022-10-04T182851  \n",
       "1                1         8.30             0.00  2022-10-04T182851  \n",
       "2                1         1.99             0.00  2022-10-04T182851  \n",
       "3                1         5.10             0.00  2022-10-04T182851  \n",
       "4                1        76.05             0.00  2022-10-04T182851  \n",
       "...            ...          ...              ...                ...  \n",
       "1039857          1         9.90             0.00  2023-04-30T190211  \n",
       "1039858          1         1.76             0.00  2023-04-30T190211  \n",
       "1039859          1        23.99             4.09  2023-04-30T190211  \n",
       "1039861          1        11.99             0.00  2023-04-30T191955  \n",
       "1039862          1         9.99             0.00  2023-04-30T191955  \n",
       "\n",
       "[869795 rows x 8 columns]"
      ]
     },
     "metadata": {},
     "output_type": "display_data"
    },
    {
     "name": "stdout",
     "output_type": "stream",
     "text": [
      "\n",
      "Finding duplicates in Addresses:\n"
     ]
    },
    {
     "data": {
      "text/html": [
       "<div>\n",
       "<style scoped>\n",
       "    .dataframe tbody tr th:only-of-type {\n",
       "        vertical-align: middle;\n",
       "    }\n",
       "\n",
       "    .dataframe tbody tr th {\n",
       "        vertical-align: top;\n",
       "    }\n",
       "\n",
       "    .dataframe thead th {\n",
       "        text-align: right;\n",
       "    }\n",
       "</style>\n",
       "<table border=\"1\" class=\"dataframe\">\n",
       "  <thead>\n",
       "    <tr style=\"text-align: right;\">\n",
       "      <th></th>\n",
       "      <th>address_id</th>\n",
       "      <th>postal_code</th>\n",
       "      <th>district</th>\n",
       "      <th>region</th>\n",
       "    </tr>\n",
       "  </thead>\n",
       "  <tbody>\n",
       "    <tr>\n",
       "      <th>1</th>\n",
       "      <td>1347</td>\n",
       "      <td>20090.0</td>\n",
       "      <td>MI</td>\n",
       "      <td>LOMBARDIA</td>\n",
       "    </tr>\n",
       "    <tr>\n",
       "      <th>2</th>\n",
       "      <td>1347</td>\n",
       "      <td>20090.0</td>\n",
       "      <td>MI</td>\n",
       "      <td>LOMBARDIA</td>\n",
       "    </tr>\n",
       "    <tr>\n",
       "      <th>3</th>\n",
       "      <td>1347</td>\n",
       "      <td>20090.0</td>\n",
       "      <td>MI</td>\n",
       "      <td>LOMBARDIA</td>\n",
       "    </tr>\n",
       "    <tr>\n",
       "      <th>4</th>\n",
       "      <td>1347</td>\n",
       "      <td>20090.0</td>\n",
       "      <td>MI</td>\n",
       "      <td>LOMBARDIA</td>\n",
       "    </tr>\n",
       "    <tr>\n",
       "      <th>6</th>\n",
       "      <td>1412</td>\n",
       "      <td>20090.0</td>\n",
       "      <td>MI</td>\n",
       "      <td>LOMBARDIA</td>\n",
       "    </tr>\n",
       "    <tr>\n",
       "      <th>...</th>\n",
       "      <td>...</td>\n",
       "      <td>...</td>\n",
       "      <td>...</td>\n",
       "      <td>...</td>\n",
       "    </tr>\n",
       "    <tr>\n",
       "      <th>245417</th>\n",
       "      <td>211855</td>\n",
       "      <td>81030.0</td>\n",
       "      <td>CE</td>\n",
       "      <td>CAMPANIA</td>\n",
       "    </tr>\n",
       "    <tr>\n",
       "      <th>245418</th>\n",
       "      <td>720576</td>\n",
       "      <td>31020.0</td>\n",
       "      <td>TV</td>\n",
       "      <td>VENETO</td>\n",
       "    </tr>\n",
       "    <tr>\n",
       "      <th>245420</th>\n",
       "      <td>34811</td>\n",
       "      <td>40011.0</td>\n",
       "      <td>BO</td>\n",
       "      <td>EMILIA ROMAGNA</td>\n",
       "    </tr>\n",
       "    <tr>\n",
       "      <th>245422</th>\n",
       "      <td>570394</td>\n",
       "      <td>47924.0</td>\n",
       "      <td>RN</td>\n",
       "      <td>EMILIA ROMAGNA</td>\n",
       "    </tr>\n",
       "    <tr>\n",
       "      <th>245424</th>\n",
       "      <td>654925</td>\n",
       "      <td>20010.0</td>\n",
       "      <td>MI</td>\n",
       "      <td>LOMBARDIA</td>\n",
       "    </tr>\n",
       "  </tbody>\n",
       "</table>\n",
       "<p>119623 rows × 4 columns</p>\n",
       "</div>"
      ],
      "text/plain": [
       "        address_id  postal_code district          region\n",
       "1             1347      20090.0       MI       LOMBARDIA\n",
       "2             1347      20090.0       MI       LOMBARDIA\n",
       "3             1347      20090.0       MI       LOMBARDIA\n",
       "4             1347      20090.0       MI       LOMBARDIA\n",
       "6             1412      20090.0       MI       LOMBARDIA\n",
       "...            ...          ...      ...             ...\n",
       "245417      211855      81030.0       CE        CAMPANIA\n",
       "245418      720576      31020.0       TV          VENETO\n",
       "245420       34811      40011.0       BO  EMILIA ROMAGNA\n",
       "245422      570394      47924.0       RN  EMILIA ROMAGNA\n",
       "245424      654925      20010.0       MI       LOMBARDIA\n",
       "\n",
       "[119623 rows x 4 columns]"
      ]
     },
     "metadata": {},
     "output_type": "display_data"
    }
   ],
   "source": [
    "# Finding Duplicates in Orders and Addresses\n",
    "for name in ['Orders', 'Addresses']:\n",
    "    path = file_paths[name]\n",
    "    df = pd.read_csv(path)\n",
    "\n",
    "    print(f\"\\nFinding duplicates in {name}:\")\n",
    "    if name == 'Orders':\n",
    "        display(get_duplicates(df, cols=['order_id']))\n",
    "    elif name == 'Addresses':\n",
    "        display(get_duplicates(df, cols=['address_id']))  # Assuming 'address_id' is the unique identifier for addresses\n"
   ]
  },
  {
   "cell_type": "markdown",
   "metadata": {},
   "source": [
    "##### In Orders: 869.795 rows with the same order_id but different product_id and other values. Expected as a single order contains multiple products. After checking for duplicates based on all columns we find 149.803 as shown below:"
   ]
  },
  {
   "cell_type": "code",
   "execution_count": 15,
   "metadata": {},
   "outputs": [
    {
     "name": "stdout",
     "output_type": "stream",
     "text": [
      "Total duplicate rows (all columns): 149803\n"
     ]
    },
    {
     "data": {
      "text/html": [
       "<div>\n",
       "<style scoped>\n",
       "    .dataframe tbody tr th:only-of-type {\n",
       "        vertical-align: middle;\n",
       "    }\n",
       "\n",
       "    .dataframe tbody tr th {\n",
       "        vertical-align: top;\n",
       "    }\n",
       "\n",
       "    .dataframe thead th {\n",
       "        text-align: right;\n",
       "    }\n",
       "</style>\n",
       "<table border=\"1\" class=\"dataframe\">\n",
       "  <thead>\n",
       "    <tr style=\"text-align: right;\">\n",
       "      <th></th>\n",
       "      <th>order_id</th>\n",
       "      <th>customer_id</th>\n",
       "      <th>store_id</th>\n",
       "      <th>product_id</th>\n",
       "      <th>direction</th>\n",
       "      <th>gross_price</th>\n",
       "      <th>price_reduction</th>\n",
       "      <th>purchase_datetime</th>\n",
       "    </tr>\n",
       "  </thead>\n",
       "  <tbody>\n",
       "    <tr>\n",
       "      <th>17</th>\n",
       "      <td>a55b0fc1b02134f9b5fa4378a74e2e63</td>\n",
       "      <td>23</td>\n",
       "      <td>49</td>\n",
       "      <td>35165452</td>\n",
       "      <td>1</td>\n",
       "      <td>7.47</td>\n",
       "      <td>0.71</td>\n",
       "      <td>2022-11-29T162628</td>\n",
       "    </tr>\n",
       "    <tr>\n",
       "      <th>18</th>\n",
       "      <td>a55b0fc1b02134f9b5fa4378a74e2e63</td>\n",
       "      <td>23</td>\n",
       "      <td>49</td>\n",
       "      <td>35165452</td>\n",
       "      <td>1</td>\n",
       "      <td>7.47</td>\n",
       "      <td>0.71</td>\n",
       "      <td>2022-11-29T162628</td>\n",
       "    </tr>\n",
       "    <tr>\n",
       "      <th>42</th>\n",
       "      <td>2685d6e34e5f26eea7bd6143fa7ed3e4</td>\n",
       "      <td>30</td>\n",
       "      <td>49</td>\n",
       "      <td>48500403</td>\n",
       "      <td>1</td>\n",
       "      <td>1123.54</td>\n",
       "      <td>44.44</td>\n",
       "      <td>2022-07-23T070638</td>\n",
       "    </tr>\n",
       "    <tr>\n",
       "      <th>43</th>\n",
       "      <td>2685d6e34e5f26eea7bd6143fa7ed3e4</td>\n",
       "      <td>30</td>\n",
       "      <td>49</td>\n",
       "      <td>48500403</td>\n",
       "      <td>1</td>\n",
       "      <td>1123.54</td>\n",
       "      <td>44.44</td>\n",
       "      <td>2022-07-23T070638</td>\n",
       "    </tr>\n",
       "    <tr>\n",
       "      <th>44</th>\n",
       "      <td>2685d6e34e5f26eea7bd6143fa7ed3e4</td>\n",
       "      <td>30</td>\n",
       "      <td>49</td>\n",
       "      <td>48500403</td>\n",
       "      <td>1</td>\n",
       "      <td>1123.54</td>\n",
       "      <td>44.44</td>\n",
       "      <td>2022-07-23T070638</td>\n",
       "    </tr>\n",
       "  </tbody>\n",
       "</table>\n",
       "</div>"
      ],
      "text/plain": [
       "                            order_id  customer_id  store_id  product_id  \\\n",
       "17  a55b0fc1b02134f9b5fa4378a74e2e63           23        49    35165452   \n",
       "18  a55b0fc1b02134f9b5fa4378a74e2e63           23        49    35165452   \n",
       "42  2685d6e34e5f26eea7bd6143fa7ed3e4           30        49    48500403   \n",
       "43  2685d6e34e5f26eea7bd6143fa7ed3e4           30        49    48500403   \n",
       "44  2685d6e34e5f26eea7bd6143fa7ed3e4           30        49    48500403   \n",
       "\n",
       "    direction  gross_price  price_reduction  purchase_datetime  \n",
       "17          1         7.47             0.71  2022-11-29T162628  \n",
       "18          1         7.47             0.71  2022-11-29T162628  \n",
       "42          1      1123.54            44.44  2022-07-23T070638  \n",
       "43          1      1123.54            44.44  2022-07-23T070638  \n",
       "44          1      1123.54            44.44  2022-07-23T070638  "
      ]
     },
     "metadata": {},
     "output_type": "display_data"
    }
   ],
   "source": [
    "# Check for any duplicates based on all columns\n",
    "duplicates_all_columns = orders_df[orders_df.duplicated(keep=False)]\n",
    "print(f\"Total duplicate rows (all columns): {len(duplicates_all_columns)}\")\n",
    "display(duplicates_all_columns.head(5))\n"
   ]
  }
 ],
 "metadata": {
  "kernelspec": {
   "display_name": "Python 3",
   "language": "python",
   "name": "python3"
  },
  "language_info": {
   "codemirror_mode": {
    "name": "ipython",
    "version": 3
   },
   "file_extension": ".py",
   "mimetype": "text/x-python",
   "name": "python",
   "nbconvert_exporter": "python",
   "pygments_lexer": "ipython3",
   "version": "3.10.10"
  }
 },
 "nbformat": 4,
 "nbformat_minor": 2
}
