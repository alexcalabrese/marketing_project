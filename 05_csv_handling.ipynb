{
 "cells": [
  {
   "cell_type": "code",
   "execution_count": 1,
   "metadata": {},
   "outputs": [
    {
     "name": "stdout",
     "output_type": "stream",
     "text": [
      "   num__price_reduction  num__flag_phone_provided  num__loyatlty_status  \\\n",
      "0             -0.095393                       0.0               0.07554   \n",
      "1             -0.095393                       0.0               0.07554   \n",
      "2             -0.095393                       0.0               0.07554   \n",
      "3             -0.095393                       0.0               0.07554   \n",
      "4             -0.095393                       0.0               0.07554   \n",
      "\n",
      "   cat__product_class_1  cat__product_class_2  cat__product_class_3  \\\n",
      "0                   0.0                   0.0                   0.0   \n",
      "1                   0.0                   0.0                   0.0   \n",
      "2                   0.0                   0.0                   0.0   \n",
      "3                   0.0                   0.0                   0.0   \n",
      "4                   0.0                   0.0                   0.0   \n",
      "\n",
      "   cat__product_class_4  cat__product_class_5  cat__product_class_6  \\\n",
      "0                   0.0                   0.0                   0.0   \n",
      "1                   0.0                   0.0                   0.0   \n",
      "2                   1.0                   0.0                   0.0   \n",
      "3                   0.0                   0.0                   0.0   \n",
      "4                   0.0                   0.0                   0.0   \n",
      "\n",
      "   cat__product_class_7  ...  cat__email_provider_libero.it  \\\n",
      "0                   1.0  ...                            0.0   \n",
      "1                   0.0  ...                            0.0   \n",
      "2                   0.0  ...                            0.0   \n",
      "3                   1.0  ...                            0.0   \n",
      "4                   0.0  ...                            0.0   \n",
      "\n",
      "   cat__email_provider_others  bin__gender_M  customer_id  frequency  \\\n",
      "0                         0.0            0.0           23          5   \n",
      "1                         0.0            0.0           23          5   \n",
      "2                         0.0            0.0           23          5   \n",
      "3                         0.0            0.0           23          5   \n",
      "4                         0.0            0.0           23          5   \n",
      "\n",
      "   total_monthly_spend  avg_spend  max_spend  recency  churn_probability  \n",
      "0                28.62      5.724      13.98       69               0.62  \n",
      "1                28.62      5.724      13.98       69               0.62  \n",
      "2                28.62      5.724      13.98       69               0.62  \n",
      "3                28.62      5.724      13.98       69               0.62  \n",
      "4                28.62      5.724      13.98       69               0.62  \n",
      "\n",
      "[5 rows x 64 columns]\n",
      "(233133, 64)\n"
     ]
    }
   ],
   "source": [
    "import pandas as pd\n",
    "\n",
    "# Read the CSV file\n",
    "df = pd.read_csv('raw_data_rfm_and_churn_prob.csv')\n",
    "\n",
    "# Print the first 5 rows of the DataFrame\n",
    "print(df.head())\n",
    "\n",
    "# Print the shape of the DataFrame\n",
    "print(df.shape)"
   ]
  },
  {
   "cell_type": "code",
   "execution_count": 2,
   "metadata": {},
   "outputs": [
    {
     "data": {
      "text/plain": [
       "Index(['num__price_reduction', 'num__flag_phone_provided',\n",
       "       'num__loyatlty_status', 'cat__product_class_1', 'cat__product_class_2',\n",
       "       'cat__product_class_3', 'cat__product_class_4', 'cat__product_class_5',\n",
       "       'cat__product_class_6', 'cat__product_class_7', 'cat__product_class_8',\n",
       "       'cat__product_class_9', 'cat__product_class_10',\n",
       "       'cat__product_class_11', 'cat__product_class_12',\n",
       "       'cat__product_class_13', 'cat__product_class_14',\n",
       "       'cat__job_type_employee', 'cat__job_type_entrepreneur',\n",
       "       'cat__job_type_manager', 'cat__job_type_missing',\n",
       "       'cat__job_type_no declaration', 'cat__job_type_others',\n",
       "       'cat__job_type_retired', 'cat__job_type_self-employed',\n",
       "       'cat__job_type_student', 'cat__job_type_unemployed',\n",
       "       'cat__region_ABRUZZO', 'cat__region_BASILICATA', 'cat__region_CALABRIA',\n",
       "       'cat__region_CAMPANIA', 'cat__region_EMILIA ROMAGNA',\n",
       "       'cat__region_FRIULI VENEZIA GIULIA', 'cat__region_LAZIO',\n",
       "       'cat__region_LIGURIA', 'cat__region_LOMBARDIA', 'cat__region_MARCHE',\n",
       "       'cat__region_MOLISE', 'cat__region_PIEMONTE', 'cat__region_PUGLIA',\n",
       "       'cat__region_SARDEGNA', 'cat__region_SICILIA', 'cat__region_TOSCANA',\n",
       "       'cat__region_TRENTINO ALTO ADIGE', 'cat__region_UMBRIA',\n",
       "       'cat__region_VALLE D'AOSTA', 'cat__region_VENETO',\n",
       "       'cat__region_missing', 'cat__loyalty_type_business premium',\n",
       "       'cat__loyalty_type_business standard', 'cat__loyalty_type_premium',\n",
       "       'cat__loyalty_type_standard', 'cat__email_provider_gmail.com',\n",
       "       'cat__email_provider_hotmail.it', 'cat__email_provider_libero.it',\n",
       "       'cat__email_provider_others', 'bin__gender_M', 'customer_id',\n",
       "       'frequency', 'total_monthly_spend', 'avg_spend', 'max_spend', 'recency',\n",
       "       'churn_probability'],\n",
       "      dtype='object')"
      ]
     },
     "execution_count": 2,
     "metadata": {},
     "output_type": "execute_result"
    }
   ],
   "source": [
    "df.columns"
   ]
  },
  {
   "cell_type": "code",
   "execution_count": 5,
   "metadata": {},
   "outputs": [
    {
     "name": "stdout",
     "output_type": "stream",
     "text": [
      "(60711, 64)\n"
     ]
    }
   ],
   "source": [
    "df_over_70 = df[df['churn_probability'] > 0.7]\n",
    "df_over_70.head()\n",
    "print(df_over_70.shape)\n"
   ]
  },
  {
   "cell_type": "code",
   "execution_count": 6,
   "metadata": {},
   "outputs": [],
   "source": [
    "df_over_70.to_csv('raw_data_rfm_and_churn_prob_over_70.csv', index=False)"
   ]
  }
 ],
 "metadata": {
  "kernelspec": {
   "display_name": "base",
   "language": "python",
   "name": "python3"
  },
  "language_info": {
   "codemirror_mode": {
    "name": "ipython",
    "version": 3
   },
   "file_extension": ".py",
   "mimetype": "text/x-python",
   "name": "python",
   "nbconvert_exporter": "python",
   "pygments_lexer": "ipython3",
   "version": "3.10.13"
  }
 },
 "nbformat": 4,
 "nbformat_minor": 2
}
